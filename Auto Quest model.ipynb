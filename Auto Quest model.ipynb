{
 "cells": [
  {
   "cell_type": "code",
   "execution_count": null,
   "metadata": {
    "scrolled": true
   },
   "outputs": [],
   "source": [
    "import os , glob\n",
    "import matplotlib.pyplot as plt\n",
    "import numpy as np\n",
    "from sys import getsizeof\n",
    "from keras.preprocessing.image import load_img,img_to_array,array_to_img\n",
    "import cv2\n",
    "path=\"D:\\\\Documents\\\\Game\\\\\"\n",
    "jpgfile=[filename for filename in glob.iglob(path + '**/*.png', recursive=True)]\n",
    "print(len(jpgfile))\n",
    "jpgfile[35]"
   ]
  },
  {
   "cell_type": "code",
   "execution_count": null,
   "metadata": {},
   "outputs": [],
   "source": [
    "img=[]\n",
    "for j in jpgfile:\n",
    "    temp_img=cv2.imread(j)\n",
    "    temp_img=cv2.resize(temp_img[:,:,:],(512,288))\n",
    "    img.append(temp_img)\n",
    "img=np.array(img)\n",
    "img=img/255\n",
    "print(img.shape)\n",
    "\n",
    "Ylabel=[i.split(\"\\\\\")[-2] for i in jpgfile]\n",
    "Ylabel_onehot=np.zeros((len(Ylabel),4))\n",
    "for no,category in enumerate(Ylabel):\n",
    "    if category==\"Chat\":\n",
    "        Ylabel_onehot[no,0]=1\n",
    "    elif category==\"ClickZ\" or category==\"NoQuest\":\n",
    "        Ylabel_onehot[no,1]=1\n",
    "    elif category==\"MissionComplete\":\n",
    "        Ylabel_onehot[no,2]=1\n",
    "    elif category==\"InMulung\":\n",
    "        Ylabel_onehot[no,3]=1"
   ]
  },
  {
   "cell_type": "code",
   "execution_count": null,
   "metadata": {
    "scrolled": true
   },
   "outputs": [],
   "source": [
    "plt.imshow(img[0,:,:,::-1])"
   ]
  },
  {
   "cell_type": "code",
   "execution_count": null,
   "metadata": {},
   "outputs": [],
   "source": [
    "from keras.models import Sequential\n",
    "from keras.layers import Conv2D, MaxPooling2D, UpSampling2D\n",
    "from keras.layers import Activation, Dropout, Flatten, Dense\n",
    "from keras.layers import BatchNormalization, Input, Reshape,Conv2DTranspose\n",
    "from keras.optimizers import Adam\n",
    "from keras import optimizers\n",
    "from keras.models import Model\n",
    "from keras.layers.advanced_activations import LeakyReLU\n",
    "from keras.utils import plot_model\n",
    "from keras.models import load_model\n",
    "\n",
    "model = Sequential()\n",
    "model.add(Conv2D(128, (3, 3), input_shape=(288,512,3),activation=\"relu\"))\n",
    "model.add(MaxPooling2D(pool_size=(2,2)))\n",
    "model.add(Conv2D(64, (3, 3),activation=\"relu\"))\n",
    "model.add(MaxPooling2D(pool_size=(2, 2)))\n",
    "model.add(Conv2D(32, (3, 3),activation=\"relu\"))\n",
    "model.add(MaxPooling2D(pool_size=(2, 2)))\n",
    "model.add(Conv2D(16, (3, 3),activation=\"relu\"))\n",
    "model.add(MaxPooling2D(pool_size=(2, 2)))\n",
    "model.add(Conv2D(8, (3, 3),activation=\"relu\"))\n",
    "model.add(MaxPooling2D(pool_size=(2, 2)))\n",
    "\n",
    "model.add(Flatten()) \n",
    "model.add(Dense(256, activation='relu'))\n",
    "model.add(Dense(128, activation='relu'))\n",
    "model.add(Dense(64, activation='relu'))\n",
    "model.add(Dense(32, activation='relu'))\n",
    "model.add(Dense(16, activation='relu'))\n",
    "model.add(Dense(8, activation='relu'))\n",
    "model.add(Dense(4, activation='softmax'))\n",
    "\n",
    "model.compile(optimizer='adam', loss='categorical_crossentropy',metrics=['accuracy'])\n",
    "\n",
    "# history=model.fit(Xtrain,Ytrain,batch_size=10,epochs=15,validation_data=(Xtest,Ytest))\n",
    "history=model.fit(img,Ylabel_onehot,batch_size=20,epochs=50)\n",
    "model.save(\"AutoQuest.h5\")"
   ]
  },
  {
   "cell_type": "code",
   "execution_count": null,
   "metadata": {
    "scrolled": false
   },
   "outputs": [],
   "source": [
    "whereIdle=np.where([i==\"NoQuest\" or i==\"ClickZ\" for i in Ylabel])\n",
    "Ylabel_quest_block=[i for i in Ylabel if i==\"NoQuest\" or i==\"ClickZ\" ]\n",
    "Ylabel_quest_block_onehot=np.zeros((len(Ylabel_quest_block),2))\n",
    "for no,category in enumerate(Ylabel_quest_block):\n",
    "    if category==\"ClickZ\":\n",
    "        Ylabel_quest_block_onehot[no,0]=1\n",
    "    elif category==\"NoQuest\":\n",
    "        Ylabel_quest_block_onehot[no,1]=1\n",
    "img_quest_block=img[whereIdle,100:150,0:100,:][0]\n",
    "print(img_quest_block.shape)\n",
    "print(Ylabel_quest_block_onehot.shape)\n",
    "plt.imshow(img_quest_block[0])"
   ]
  },
  {
   "cell_type": "code",
   "execution_count": null,
   "metadata": {},
   "outputs": [],
   "source": [
    "model2 = Sequential()\n",
    "model2.add(Conv2D(128, (3, 3), input_shape=(50,100,3),activation=\"relu\"))\n",
    "model2.add(MaxPooling2D(pool_size=(2,2)))\n",
    "model2.add(Conv2D(64, (3, 3),activation=\"relu\"))\n",
    "model2.add(MaxPooling2D(pool_size=(2, 2)))\n",
    "model2.add(Conv2D(32, (3, 3),activation=\"relu\"))\n",
    "model2.add(MaxPooling2D(pool_size=(2, 2)))\n",
    "\n",
    "model2.add(Flatten()) \n",
    "model2.add(Dense(256, activation='relu'))\n",
    "model2.add(Dense(128, activation='relu'))\n",
    "model2.add(Dense(64, activation='relu'))\n",
    "model2.add(Dense(32, activation='relu'))\n",
    "model2.add(Dense(16, activation='relu'))\n",
    "model2.add(Dense(8, activation='relu'))\n",
    "model2.add(Dense(2, activation='softmax'))\n",
    "\n",
    "model2.compile(optimizer='adam', loss='categorical_crossentropy',metrics=['accuracy'])\n",
    "\n",
    "# history=model.fit(Xtrain,Ytrain,batch_size=10,epochs=15,validation_data=(Xtest,Ytest))\n",
    "history=model2.fit(img_quest_block,Ylabel_quest_block_onehot,batch_size=10,epochs=30)\n",
    "model2.save(\"CheckNoQuest.h5\")"
   ]
  },
  {
   "cell_type": "code",
   "execution_count": null,
   "metadata": {},
   "outputs": [],
   "source": [
    "import pyscreenshot as ImageGrab\n",
    "import win32gui\n",
    "import numpy as np\n",
    "import keyboard\n",
    "import time\n",
    "import cv2\n",
    "from IPython.display import display, clear_output\n",
    "rect=win32gui.GetWindowRect(win32gui.FindWindow(None, \"MSM\"))\n",
    "time.sleep(1)\n",
    "im=ImageGrab.grab(bbox=(rect[0],rect[1]+35,rect[2],rect[3]))\n",
    "im=np.array(im)\n",
    "im=cv2.resize(im[:,:,:],(512,288))\n",
    "im=np.expand_dims(im,0)\n",
    "whichmax=np.argmax(model.predict(im)[0])\n",
    "import matplotlib.pyplot as plt\n",
    "print(plt.imshow(im[0]))\n",
    "print(model.predict(im))"
   ]
  },
  {
   "cell_type": "code",
   "execution_count": null,
   "metadata": {},
   "outputs": [],
   "source": [
    "print(im.shape)\n",
    "print(im[:,100:150,0:100,:].shape)\n",
    "plt.imshow(im[0,100:150,0:100,:])"
   ]
  },
  {
   "cell_type": "markdown",
   "metadata": {},
   "source": [
    "# mission go"
   ]
  },
  {
   "cell_type": "code",
   "execution_count": null,
   "metadata": {},
   "outputs": [],
   "source": [
    "import pyscreenshot as ImageGrab\n",
    "import win32gui\n",
    "import numpy as np\n",
    "import keyboard\n",
    "import time\n",
    "import cv2\n",
    "import matplotlib.pyplot as plt\n",
    "from IPython.display import display, clear_output\n",
    "def mission_go():\n",
    "    can_go_mission=True\n",
    "    keyboard.press_and_release('h')\n",
    "    phoenix_time=time.time()\n",
    "    while True:\n",
    "        clear_output(wait=True)\n",
    "        print(time.localtime()[3:6])\n",
    "        im=ImageGrab.grab(bbox=(rect[0],rect[1]+35,rect[2],rect[3]))\n",
    "        im=np.array(im)\n",
    "        im=cv2.resize(im[:,:,:],(512,288))\n",
    "        im=np.expand_dims(im,0)\n",
    "        print(plt.imshow(im[0]))\n",
    "        whichmax=np.argmax(model.predict(im)[0])\n",
    "        if whichmax==0:\n",
    "            print(\"chat\")\n",
    "            keyboard.press_and_release('n')\n",
    "            keyboard.press_and_release('b')\n",
    "        elif whichmax==1 and can_go_mission:\n",
    "            print(\"ClickZ or Idle or NoQuest\")\n",
    "            can_go_mission=False\n",
    "            im2=im[:,100:150,0:100,:]\n",
    "            whichmax2=np.argmax(model2.predict(im2)[0])\n",
    "            if whichmax2==0:\n",
    "                print(\"ClickZ\")\n",
    "                keyboard.press_and_release('z')\n",
    "                time.sleep(3)\n",
    "            elif whichmax2==1:\n",
    "                print(\"NoQuest\")\n",
    "                keyboard.press_and_release('i')\n",
    "                time.sleep(3)\n",
    "                keyboard.press_and_release('t')\n",
    "                time.sleep(3)\n",
    "                keyboard.press_and_release('q')\n",
    "                time.sleep(3)\n",
    "                keyboard.press_and_release('n')\n",
    "                time.sleep(5)\n",
    "        elif whichmax==2:\n",
    "            print(\"Mission Complete\")\n",
    "            can_go_mission=True\n",
    "            keyboard.press_and_release('c')\n",
    "            time.sleep(3)\n",
    "        elif whichmax==3 and can_go_mission:\n",
    "            print(\"In Mulung\")\n",
    "        else:\n",
    "            print(\"Other\")\n",
    "            time.sleep(5)\n",
    "        if time.time()-phoenix_time > 10*60+0.1:\n",
    "            time.sleep(0.5)\n",
    "            keyboard.press_and_release('h')\n",
    "            phoenix_time=time.time()\n",
    "            time.sleep(0.5)\n",
    "        time.sleep(0.5)\n",
    "print(\"Done\")"
   ]
  },
  {
   "cell_type": "code",
   "execution_count": null,
   "metadata": {},
   "outputs": [],
   "source": [
    "for i in [5,4,3,2,1]:\n",
    "    print(i)\n",
    "    time.sleep(1)\n",
    "    clear_output(wait=True)\n",
    "if __name__==\"__main__\":\n",
    "    rect=win32gui.GetWindowRect(win32gui.FindWindow(None, \"MSM\"))\n",
    "    mission_go()"
   ]
  },
  {
   "cell_type": "code",
   "execution_count": null,
   "metadata": {},
   "outputs": [],
   "source": []
  },
  {
   "cell_type": "code",
   "execution_count": null,
   "metadata": {},
   "outputs": [],
   "source": []
  }
 ],
 "metadata": {
  "kernelspec": {
   "display_name": "Python 3",
   "language": "python",
   "name": "python3"
  },
  "language_info": {
   "codemirror_mode": {
    "name": "ipython",
    "version": 3
   },
   "file_extension": ".py",
   "mimetype": "text/x-python",
   "name": "python",
   "nbconvert_exporter": "python",
   "pygments_lexer": "ipython3",
   "version": "3.6.4"
  }
 },
 "nbformat": 4,
 "nbformat_minor": 2
}
