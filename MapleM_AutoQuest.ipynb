{
 "cells": [
  {
   "cell_type": "code",
   "execution_count": 1,
   "metadata": {},
   "outputs": [],
   "source": [
    "import cv2\n",
    "import glob\n",
    "import numpy as np\n",
    "import os\n",
    "import matplotlib.pyplot as plt\n",
    "from tensorflow.keras.models import load_model"
   ]
  },
  {
   "cell_type": "code",
   "execution_count": 2,
   "metadata": {},
   "outputs": [],
   "source": [
    "target_size = (1280,720)\n",
    "model_input_shape = (299,299)\n",
    "model1 = load_model(\"AutoQuest_first_model.h5\")\n",
    "model2 = load_model(\"AutoQuest_second_model.h5\")\n",
    "first_classes = ['dialog', 'loading', 'others', 'reward']\n",
    "second_classes = ['idle', 'inQuest']"
   ]
  },
  {
   "cell_type": "code",
   "execution_count": 3,
   "metadata": {},
   "outputs": [],
   "source": [
    "def read_and_resize(path,target_size):\n",
    "    return cv2.resize(cv2.imread(path),target_size)/255\n",
    "\n",
    "def crop_img(inputImg, scenario,model_input_shape):\n",
    "    if scenario == 'reward':\n",
    "        return inputImg[:,335:940]\n",
    "    elif scenario == 'dialog':\n",
    "        return inputImg[460:,]\n",
    "    elif scenario == 'questArrow':\n",
    "        return inputImg[460:,]\n",
    "    elif scenario == 'autoIcon':\n",
    "        icon = inputImg[632:698,351:416]\n",
    "        icon = cv2.resize(icon,model_input_shape)\n",
    "        return icon\n",
    "\n",
    "def similarity_coef(A,B):\n",
    "    return abs(np.corrcoef(A.flatten(),B.flatten())[0,1])\n",
    "\n",
    "# input an Game image with target size and normalized with 255\n",
    "def check_scenario(inputImg):\n",
    "    inputImg_1 = cv2.resize(inputImg,model_input_shape)\n",
    "    inputImg_1 = np.expand_dims(inputImg_1,0)\n",
    "    pred = model1.predict(inputImg_1)\n",
    "    first_scenario = first_classes[np.argmax(pred)]\n",
    "    if first_scenario != 'others':\n",
    "        print(f\"Current scenario is {first_scenario}\")\n",
    "        return first_scenario\n",
    "    else:\n",
    "        inputImg_2 = crop_img(inputImg,'autoIcon',model_input_shape)\n",
    "        inputImg_2 = np.expand_dims(inputImg_2,0)\n",
    "        pred = model2.predict(inputImg_2)\n",
    "        second_classes = ['idle', 'inQuest']\n",
    "        second_scenario = second_classes[np.argmax(pred)]\n",
    "        print(f\"Current scenario is {second_scenario}\")\n",
    "        return second_scenario"
   ]
  },
  {
   "cell_type": "markdown",
   "metadata": {},
   "source": [
    "# Run script"
   ]
  },
  {
   "cell_type": "code",
   "execution_count": 4,
   "metadata": {},
   "outputs": [
    {
     "data": {
      "text/plain": [
       "'already connected to 127.0.0.1:62001\\n'"
      ]
     },
     "execution_count": 4,
     "metadata": {},
     "output_type": "execute_result"
    }
   ],
   "source": [
    "from win32gui import GetWindowText, GetForegroundWindow, GetWindowRect, FindWindow\n",
    "import pyscreenshot as ImageGrab\n",
    "import time\n",
    "import os\n",
    "from IPython.display import display, clear_output\n",
    "import datetime\n",
    "\n",
    "'''\n",
    "# if the foreground window is as the same as desired_window, then this script will capture your current screen and check current scenario.\n",
    "# which is faster than capture screenshot using Nox.\n",
    "'''\n",
    "desired_window = \"夜神模擬器\"\n",
    "\n",
    "# The Nox install path\n",
    "path = \"C:\\\\Program Files\\\\Nox\\\\bin\"\n",
    "os.chdir(path)\n",
    "\n",
    "'''\n",
    "The simulator default port, if you using multiple simulator, you should change the port.\n",
    "You can check your port number use : os.popen('adb devices').read()\n",
    "'''\n",
    "print(os.popen('adb devices').read())\n",
    "connect = os.popen(\"adb connect 127.0.0.1:62001\").read()\n",
    "print(connect)"
   ]
  },
  {
   "cell_type": "code",
   "execution_count": 19,
   "metadata": {
    "scrolled": false
   },
   "outputs": [
    {
     "name": "stdout",
     "output_type": "stream",
     "text": [
      "Current round count:20\n",
      "2019-10-28 17:34:53.594796\n",
      "Current scenario is reward\n",
      "Computing time : 0.356 second.\n",
      "reward\n"
     ]
    },
    {
     "ename": "KeyboardInterrupt",
     "evalue": "",
     "output_type": "error",
     "traceback": [
      "\u001b[1;31m---------------------------------------------------------------------------\u001b[0m",
      "\u001b[1;31mKeyboardInterrupt\u001b[0m                         Traceback (most recent call last)",
      "\u001b[1;32m<ipython-input-19-a17033da419b>\u001b[0m in \u001b[0;36m<module>\u001b[1;34m\u001b[0m\n\u001b[0;32m     36\u001b[0m         \u001b[0mprint\u001b[0m\u001b[1;33m(\u001b[0m\u001b[1;34m\"reward\"\u001b[0m\u001b[1;33m)\u001b[0m\u001b[1;33m\u001b[0m\u001b[1;33m\u001b[0m\u001b[0m\n\u001b[0;32m     37\u001b[0m         \u001b[0mos\u001b[0m\u001b[1;33m.\u001b[0m\u001b[0msystem\u001b[0m\u001b[1;33m(\u001b[0m\u001b[1;34m\"adb shell input tap 795 795\"\u001b[0m\u001b[1;33m)\u001b[0m\u001b[1;33m\u001b[0m\u001b[1;33m\u001b[0m\u001b[0m\n\u001b[1;32m---> 38\u001b[1;33m         \u001b[0mtime\u001b[0m\u001b[1;33m.\u001b[0m\u001b[0msleep\u001b[0m\u001b[1;33m(\u001b[0m\u001b[1;36m2\u001b[0m\u001b[1;33m)\u001b[0m\u001b[1;33m\u001b[0m\u001b[1;33m\u001b[0m\u001b[0m\n\u001b[0m\u001b[0;32m     39\u001b[0m     \u001b[1;32melif\u001b[0m \u001b[0mcurrent_scenario\u001b[0m \u001b[1;33m==\u001b[0m \u001b[1;34m'idle'\u001b[0m\u001b[1;33m:\u001b[0m\u001b[1;33m\u001b[0m\u001b[1;33m\u001b[0m\u001b[0m\n\u001b[0;32m     40\u001b[0m         \u001b[0mprint\u001b[0m\u001b[1;33m(\u001b[0m\u001b[1;34m\"idle\"\u001b[0m\u001b[1;33m)\u001b[0m\u001b[1;33m\u001b[0m\u001b[1;33m\u001b[0m\u001b[0m\n",
      "\u001b[1;31mKeyboardInterrupt\u001b[0m: "
     ]
    }
   ],
   "source": [
    "run_count = 0\n",
    "while True:\n",
    "    clear_output(wait=True)\n",
    "    run_count += 1\n",
    "    print(f\"Current round count:{run_count}\")\n",
    "    if run_count%1000==0:\n",
    "        #restart adb server and connection after a while\n",
    "        os.system(\"adb shell kill-server\")\n",
    "        os.system(\"adb shell start-server\")\n",
    "        os.popen(\"adb connect 127.0.0.1:62001\")\n",
    "    print(datetime.datetime.now())\n",
    "    s = time.time()\n",
    "    current_window = GetWindowText(GetForegroundWindow())\n",
    "    \n",
    "    # If current_window is not as desired_window `夜神模擬器`, capture screen use adb tools\n",
    "    if current_window != desired_window:\n",
    "        print(\"ForegroundWindow not Nox, adb screencap is using.\")\n",
    "        os.system('adb shell screencap -p /sdcard/screenshot.png')\n",
    "        os.system('adb pull /sdcard/screenshot.png ./screenshot.png')\n",
    "        im = cv2.imread('./screenshot.png')\n",
    "        os.system('adb shell rm /sdcard/screenshot.png')\n",
    "        os.remove('./screenshot.png')\n",
    "    else:\n",
    "        rect = GetWindowRect(FindWindow(None, desired_window))\n",
    "        im = ImageGrab.grab(bbox=(rect[0],rect[1]+35,rect[2],rect[3]))\n",
    "        im = np.array(im)\n",
    "    im = cv2.resize(im,target_size)/255\n",
    "    current_scenario = check_scenario(im)\n",
    "    print(f\"Computing time : {round(time.time() - s,3)} second.\")\n",
    "    if current_scenario == 'dialog':\n",
    "        print(\"dialog\")\n",
    "        os.system(\"adb shell input tap 515 682\")\n",
    "        os.system(\"adb shell input tap 1377 521\")\n",
    "        time.sleep(2)\n",
    "    elif current_scenario == 'reward':\n",
    "        print(\"reward\")\n",
    "        os.system(\"adb shell input tap 795 795\")\n",
    "        time.sleep(2)\n",
    "    elif current_scenario == 'idle':\n",
    "        print(\"idle\")\n",
    "        os.system(\"adb shell input tap 134 294\")\n",
    "        time.sleep(2)\n",
    "    elif current_scenario == 'inQuest':\n",
    "        time.sleep(10)\n",
    "    else:\n",
    "        time.sleep(2)\n",
    "    "
   ]
  },
  {
   "cell_type": "code",
   "execution_count": null,
   "metadata": {},
   "outputs": [],
   "source": []
  }
 ],
 "metadata": {
  "kernelspec": {
   "display_name": "Python 3",
   "language": "python",
   "name": "python3"
  },
  "language_info": {
   "codemirror_mode": {
    "name": "ipython",
    "version": 3
   },
   "file_extension": ".py",
   "mimetype": "text/x-python",
   "name": "python",
   "nbconvert_exporter": "python",
   "pygments_lexer": "ipython3",
   "version": "3.7.3"
  }
 },
 "nbformat": 4,
 "nbformat_minor": 2
}
