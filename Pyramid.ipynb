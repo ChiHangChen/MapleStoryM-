{
 "cells": [
  {
   "cell_type": "code",
   "execution_count": 8,
   "metadata": {},
   "outputs": [
    {
     "name": "stdout",
     "output_type": "stream",
     "text": [
      "請先切換到遊戲視窗再切回本視窗，然後按任意鍵:ASF\n"
     ]
    }
   ],
   "source": [
    "import keyboard\n",
    "import time\n",
    "# Switch to the game\n",
    "input(\"請先切換到遊戲視窗再切回本視窗，然後按任意鍵:\")\n",
    "keyboard.press_and_release('alt+tab')\n",
    "time.sleep(0.1)\n",
    "keyboard.press_and_release('enter')\n",
    "def pyramid():\n",
    "    sleep_time=1\n",
    "    sleep_time=sleep_time\n",
    "    #use phoenix\n",
    "    keyboard.press_and_release('h')\n",
    "    phoenix_time=time.time()\n",
    "    time.sleep(sleep_time)\n",
    "\n",
    "    #Use bow\n",
    "    keyboard.press_and_release('l')\n",
    "    bow_time=time.time()\n",
    "    use_second_bow=1\n",
    "    time.sleep(sleep_time)\n",
    "\n",
    "    while True:\n",
    "        if use_second_bow==1 and time.time() - bow_time > 10.1:\n",
    "            time.sleep(0.5)\n",
    "            keyboard.press_and_release('l')\n",
    "            use_second_bow=0\n",
    "            time.sleep(sleep_time)\n",
    "\n",
    "        if time.time()-bow_time > 30+0.1 :\n",
    "            time.sleep(0.5)\n",
    "            keyboard.press_and_release('l')\n",
    "            bow_time=time.time()\n",
    "            use_second_bow=1\n",
    "            time.sleep(sleep_time)\n",
    "\n",
    "        if time.time()-phoenix_time > 10*60+0.1:\n",
    "            time.sleep(0.5)\n",
    "            keyboard.press_and_release('h')\n",
    "            phoenix_time=time.time()\n",
    "            time.sleep(sleep_time)\n",
    "\n",
    "        # use fire arrow rain\n",
    "        keyboard.press_and_release('u')\n",
    "        time.sleep(0.2)"
   ]
  },
  {
   "cell_type": "code",
   "execution_count": null,
   "metadata": {},
   "outputs": [],
   "source": [
    "pyramid()"
   ]
  }
 ],
 "metadata": {
  "kernelspec": {
   "display_name": "Python 3",
   "language": "python",
   "name": "python3"
  },
  "language_info": {
   "codemirror_mode": {
    "name": "ipython",
    "version": 3
   },
   "file_extension": ".py",
   "mimetype": "text/x-python",
   "name": "python",
   "nbconvert_exporter": "python",
   "pygments_lexer": "ipython3",
   "version": "3.6.4"
  }
 },
 "nbformat": 4,
 "nbformat_minor": 2
}
